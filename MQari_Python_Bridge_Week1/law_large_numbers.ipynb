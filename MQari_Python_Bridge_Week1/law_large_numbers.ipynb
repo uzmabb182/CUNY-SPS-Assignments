{
  "nbformat": 4,
  "nbformat_minor": 0,
  "metadata": {
    "colab": {
      "name": "law_large_numbers.ipynb",
      "provenance": [],
      "collapsed_sections": []
    },
    "kernelspec": {
      "name": "python3",
      "display_name": "Python 3"
    },
    "language_info": {
      "name": "python"
    }
  },
  "cells": [
    {
      "cell_type": "code",
      "execution_count": null,
      "metadata": {
        "id": "lu6UsGObU7iS"
      },
      "outputs": [],
      "source": [
        "# Your challenge in this task is to verify this law when rolling a\n",
        "# six-sided die for the following number of trials: 100, 1000, 10000, 100000,\n",
        "# and 500000\n"
      ]
    },
    {
      "cell_type": "code",
      "source": [
        "num_of_trails = [100, 1000, 10000, 100000, 500000]"
      ],
      "metadata": {
        "id": "K3fTdiZ7Yq0S"
      },
      "execution_count": null,
      "outputs": []
    },
    {
      "cell_type": "code",
      "source": [
        "\n",
        "index =0\n",
        "while (index < 5):\n",
        "  sum = 0 \n",
        "  e = 0\n",
        "  for i in range(0, num_of_trails[index]):\n",
        "    for n in range(1, 7):\n",
        "      e = e + n*(1/6) \n",
        "    \n",
        "  sum = sum + e\n",
        "  print(sum)\n",
        "  avg = sum/num_of_trails[index]\n",
        "  print(num_of_trails[index])  \n",
        "  print(avg)\n",
        "  print(f'Expected average value for the {num_of_trails[index]} trial average is: {avg}')\n",
        "  index =index+1"
      ],
      "metadata": {
        "colab": {
          "base_uri": "https://localhost:8080/"
        },
        "id": "oPI9PqABYiJs",
        "outputId": "316663d0-ae9b-4262-f134-e2977fee34d8"
      },
      "execution_count": null,
      "outputs": [
        {
          "output_type": "stream",
          "name": "stdout",
          "text": [
            "350.0\n",
            "100\n",
            "3.5\n",
            "Expected average value for the 100 trial average is: 3.5\n",
            "3500.0\n",
            "1000\n",
            "3.5\n",
            "Expected average value for the 1000 trial average is: 3.5\n",
            "35000.0\n",
            "10000\n",
            "3.5\n",
            "Expected average value for the 10000 trial average is: 3.5\n",
            "350000.0\n",
            "100000\n",
            "3.5\n",
            "Expected average value for the 100000 trial average is: 3.5\n",
            "1750000.0\n",
            "500000\n",
            "3.5\n",
            "Expected average value for the 500000 trial average is: 3.5\n"
          ]
        }
      ]
    }
  ]
}
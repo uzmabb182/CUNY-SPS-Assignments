{
  "nbformat": 4,
  "nbformat_minor": 0,
  "metadata": {
    "colab": {
      "name": "even_odd.ipynb",
      "provenance": [],
      "collapsed_sections": []
    },
    "kernelspec": {
      "name": "python3",
      "display_name": "Python 3"
    },
    "language_info": {
      "name": "python"
    }
  },
  "cells": [
    {
      "cell_type": "code",
      "execution_count": null,
      "metadata": {
        "id": "qoZ65AQwcwaU"
      },
      "outputs": [],
      "source": [
        "#1: Even-Odd Vending Machine"
      ]
    },
    {
      "cell_type": "code",
      "source": [
        "from google.colab import drive\n",
        "drive.mount('/content/drive')"
      ],
      "metadata": {
        "id": "UQ43WNnoZDdQ"
      },
      "execution_count": null,
      "outputs": []
    },
    {
      "cell_type": "code",
      "source": [
        "from fractions import Fraction\n",
        "# import sympy\n",
        "from sympy import *"
      ],
      "metadata": {
        "id": "0KT4-4jBc7Zc"
      },
      "execution_count": null,
      "outputs": []
    },
    {
      "cell_type": "code",
      "source": [
        "num = float(input(f'Enter the number: '))"
      ],
      "metadata": {
        "colab": {
          "base_uri": "https://localhost:8080/"
        },
        "id": "C_9uWZ8Ugqq3",
        "outputId": "8b902940-8088-4ded-aec6-423b065e4aec"
      },
      "execution_count": null,
      "outputs": [
        {
          "name": "stdout",
          "output_type": "stream",
          "text": [
            "Enter the number: 5.0\n"
          ]
        }
      ]
    },
    {
      "cell_type": "code",
      "source": [
        "answer = num.is_integer()\n",
        "print(answer)"
      ],
      "metadata": {
        "colab": {
          "base_uri": "https://localhost:8080/"
        },
        "id": "r2GPWRm0mHXS",
        "outputId": "beb83aa4-2701-4a08-9d7c-5d70fe1579d0"
      },
      "execution_count": null,
      "outputs": [
        {
          "output_type": "stream",
          "name": "stdout",
          "text": [
            "True\n"
          ]
        }
      ]
    },
    {
      "cell_type": "code",
      "source": [
        "answer = 5.0.is_integer()\n",
        "print(answer)"
      ],
      "metadata": {
        "colab": {
          "base_uri": "https://localhost:8080/"
        },
        "id": "kAV1mQjsh8uf",
        "outputId": "b8eacbae-a5dc-4d22-b682-977be324fa90"
      },
      "execution_count": null,
      "outputs": [
        {
          "output_type": "stream",
          "name": "stdout",
          "text": [
            "True\n"
          ]
        }
      ]
    },
    {
      "cell_type": "code",
      "source": [
        "# function for checking the number\n",
        "def is_even(n):\n",
        "  if num % 2 == 0:\n",
        "    return True\n",
        "  else:\n",
        "    return False"
      ],
      "metadata": {
        "id": "PXoXcOjKkjKo"
      },
      "execution_count": null,
      "outputs": []
    },
    {
      "cell_type": "code",
      "source": [
        "even_numbers = []\n",
        "odd_numbers = []\n",
        "answer = is_even(num)\n",
        "if answer:\n",
        "  print(f'The number {num} is even number.')\n",
        "  for i in range(1,10):\n",
        "    even_numbers.append(num)\n",
        "    print(even_numbers[i]) \n",
        "    num = num + 2\n",
        "else:\n",
        "  print(f'The number {num} is odd number.')\n",
        "  for i in range(1,10):\n",
        "    odd_numbers.append(num)\n",
        "    print(odd_numbers) \n",
        "    num = num + 2\n",
        " \n",
        "    \n",
        "\n"
      ],
      "metadata": {
        "colab": {
          "base_uri": "https://localhost:8080/"
        },
        "id": "MP8I1b0ckjz-",
        "outputId": "7584de6b-1e62-4ec1-b417-70f89ec68a6e"
      },
      "execution_count": null,
      "outputs": [
        {
          "output_type": "stream",
          "name": "stdout",
          "text": [
            "The number 7.0 is odd number.\n",
            "[7.0]\n",
            "[7.0, 9.0]\n",
            "[7.0, 9.0, 11.0]\n",
            "[7.0, 9.0, 11.0, 13.0]\n",
            "[7.0, 9.0, 11.0, 13.0, 15.0]\n",
            "[7.0, 9.0, 11.0, 13.0, 15.0, 17.0]\n",
            "[7.0, 9.0, 11.0, 13.0, 15.0, 17.0, 19.0]\n",
            "[7.0, 9.0, 11.0, 13.0, 15.0, 17.0, 19.0, 21.0]\n",
            "[7.0, 9.0, 11.0, 13.0, 15.0, 17.0, 19.0, 21.0, 23.0]\n"
          ]
        }
      ]
    },
    {
      "cell_type": "code",
      "source": [
        ""
      ],
      "metadata": {
        "id": "SpS5zGxYkkUk"
      },
      "execution_count": null,
      "outputs": []
    }
  ]
}
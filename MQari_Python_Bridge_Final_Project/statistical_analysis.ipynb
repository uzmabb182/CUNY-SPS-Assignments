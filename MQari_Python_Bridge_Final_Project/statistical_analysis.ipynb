{
  "nbformat": 4,
  "nbformat_minor": 0,
  "metadata": {
    "colab": {
      "name": "statistical_analysis.ipynb",
      "provenance": [],
      "collapsed_sections": []
    },
    "kernelspec": {
      "name": "python3",
      "display_name": "Python 3"
    },
    "language_info": {
      "name": "python"
    }
  },
  "cells": [
    {
      "cell_type": "code",
      "execution_count": null,
      "metadata": {
        "id": "A9HpVLFEHD6J"
      },
      "outputs": [],
      "source": [
        "# 1- The weights of steers in a herd are distributed normally.  The variance is 40,000 and the mean steer weight is 1300 lbs. \n",
        "# Find the probability that the weight of a randomly selected steer is greater than 979 lbs.\n",
        "# (Round your answer to 4 decimal places)"
      ]
    },
    {
      "cell_type": "code",
      "source": [
        "from scipy.stats import norm\n",
        "from scipy.stats import binom as b\n",
        "from scipy.stats import t\n",
        "import matplotlib.pyplot as plt\n",
        "import numpy as np"
      ],
      "metadata": {
        "id": "jtwMYkRYacjF"
      },
      "execution_count": 4,
      "outputs": []
    },
    {
      "cell_type": "markdown",
      "source": [
        "The weight of steer in a normal distribution: X = 979lbs ,\n",
        "The standard deviation is the square root of variance: 20,000 ,\n",
        "The mean: 1300 lbs ,\n",
        "The probability that the weight of a randomly selected steer is greater than 979 lbs: 1-P(X < 979|mean=1300,STDev=20,000)\n"
      ],
      "metadata": {
        "id": "Pg3NLc1fcpzL"
      }
    },
    {
      "cell_type": "code",
      "source": [
        "round(1-norm.cdf(979, loc=1300, scale=200), 4)"
      ],
      "metadata": {
        "colab": {
          "base_uri": "https://localhost:8080/"
        },
        "id": "rBmCINJ8eCw_",
        "outputId": "6f1d9200-6041-4ca3-8cae-3dc5e0385205"
      },
      "execution_count": 3,
      "outputs": [
        {
          "output_type": "execute_result",
          "data": {
            "text/plain": [
              "0.9458"
            ]
          },
          "metadata": {},
          "execution_count": 3
        }
      ]
    },
    {
      "cell_type": "code",
      "source": [
        "# If we draw the histogram\n",
        "\n",
        "fig, ax = plt.subplots(1, 1)\n",
        "r = norm.rvs(size=1000, loc=1300, scale=200)\n",
        "ax.hist(r, density=True)"
      ],
      "metadata": {
        "colab": {
          "base_uri": "https://localhost:8080/",
          "height": 387
        },
        "id": "bFTgVbwcfPgC",
        "outputId": "deb82ee2-3ba3-460c-bb81-1171758b625c"
      },
      "execution_count": 4,
      "outputs": [
        {
          "output_type": "execute_result",
          "data": {
            "text/plain": [
              "(array([2.31364597e-05, 6.94093791e-05, 3.39334742e-04, 9.17746235e-04,\n",
              "        1.61184003e-03, 1.97431123e-03, 1.63497649e-03, 7.71215323e-04,\n",
              "        2.77637516e-04, 9.25458388e-05]),\n",
              " array([ 597.56304286,  727.22851628,  856.8939897 ,  986.55946312,\n",
              "        1116.22493654, 1245.89040996, 1375.55588337, 1505.22135679,\n",
              "        1634.88683021, 1764.55230363, 1894.21777705]),\n",
              " <a list of 10 Patch objects>)"
            ]
          },
          "metadata": {},
          "execution_count": 4
        },
        {
          "output_type": "display_data",
          "data": {
            "image/png": "[encoded data removed]",
            "text/plain": [
              "<Figure size 432x288 with 1 Axes>"
            ]
          },
          "metadata": {
            "needs_background": "light"
          }
        }
      ]
    },
    {
      "cell_type": "code",
      "source": [
        "# 2- SVGA monitors manufactured by TSI Electronics have life spans that have a normal distribution with a variance of 1,960,000 and a mean life span of 11,000 hours.\n",
        "# If a SVGA monitor is selected at random, find the probability that the life span of the monitor will be more than 8340 hours. \n",
        "# (Round your answer to 4 decimal places)"
      ],
      "metadata": {
        "id": "xi-8PBhbe2Ez"
      },
      "execution_count": null,
      "outputs": []
    },
    {
      "cell_type": "markdown",
      "source": [
        ""
      ],
      "metadata": {
        "id": "AUJFjOEkf5Hn"
      }
    },
    {
      "cell_type": "code",
      "source": [
        "SVGA monitors manufactured by TSI Electronics have life spans: X=8340 hours ,\n",
        "The standard deviation is the square root of variance: 14,00 ,\n",
        "The mean: 11,000 hours ,\n",
        "The probability that the life span of the monitor will be more than 8340 hours: 1-P(X < 8340|mean=11,000,STDev=14,00)"
      ],
      "metadata": {
        "id": "t6SSLWu6fAbi"
      },
      "execution_count": null,
      "outputs": []
    },
    {
      "cell_type": "code",
      "source": [
        "round(1-norm.cdf(8340, loc=11000, scale=1400), 4)"
      ],
      "metadata": {
        "colab": {
          "base_uri": "https://localhost:8080/"
        },
        "id": "rTHRMCzehHRA",
        "outputId": "e4bfcba9-b146-4561-e88f-375f86b80d67"
      },
      "execution_count": 5,
      "outputs": [
        {
          "output_type": "execute_result",
          "data": {
            "text/plain": [
              "0.9713"
            ]
          },
          "metadata": {},
          "execution_count": 5
        }
      ]
    },
    {
      "cell_type": "code",
      "source": [
        "# If we draw the histogram\n",
        "\n",
        "fig, ax = plt.subplots(1, 1)\n",
        "r = norm.rvs(size=10000, loc=11000, scale=1400)\n",
        "ax.hist(r, density=True)"
      ],
      "metadata": {
        "colab": {
          "base_uri": "https://localhost:8080/",
          "height": 387
        },
        "id": "R64EvnjFiOHT",
        "outputId": "e0fd0dcf-745d-4b9f-ab05-7d6fd4a9df57"
      },
      "execution_count": 6,
      "outputs": [
        {
          "output_type": "execute_result",
          "data": {
            "text/plain": [
              "(array([1.18299357e-06, 6.90079585e-06, 4.15033579e-05, 1.26876061e-04,\n",
              "        2.43893842e-04, 2.69623952e-04, 1.88588892e-04, 8.12322254e-05,\n",
              "        2.23782951e-05, 3.64756352e-06]),\n",
              " array([ 5614.47243268,  6628.84818788,  7643.22394309,  8657.59969829,\n",
              "         9671.9754535 , 10686.3512087 , 11700.7269639 , 12715.10271911,\n",
              "        13729.47847431, 14743.85422952, 15758.22998472]),\n",
              " <a list of 10 Patch objects>)"
            ]
          },
          "metadata": {},
          "execution_count": 6
        },
        {
          "output_type": "display_data",
          "data": {
            "image/png": "[encoded data removed]",
            "text/plain": [
              "<Figure size 432x288 with 1 Axes>"
            ]
          },
          "metadata": {
            "needs_background": "light"
          }
        }
      ]
    },
    {
      "cell_type": "code",
      "source": [
        "# 3- Suppose the mean income of firms in the industry for a year is 80 million dollars with a standard deviation of 3 million dollars.  \n",
        "# If incomes for the industry are distributed normally, what is the probability that a randomly selected firm will earn between 83 and 85 million dollars? \n",
        "# (Round your answer to 4 decimal places)"
      ],
      "metadata": {
        "id": "w9g3485wiiBg"
      },
      "execution_count": null,
      "outputs": []
    },
    {
      "cell_type": "markdown",
      "source": [
        "A randomly selected firm will earn between 83 and 85 million dollars ,\n",
        "The standard deviation is 3 million dollars ,\n",
        "The mean: 80 million dollars ,\n",
        "The probability that a randomly selected firm will earn between 83 and 85 million dollars: (P(X < 85|mean=80,STDev=3)-P(X < 83|mean=80,STDev=3))"
      ],
      "metadata": {
        "id": "sOX5bo3Ek7oy"
      }
    },
    {
      "cell_type": "code",
      "source": [
        "round(norm.cdf(85, loc=80, scale=3)-norm.cdf(83, loc=80, scale=3), 4)"
      ],
      "metadata": {
        "colab": {
          "base_uri": "https://localhost:8080/"
        },
        "id": "oLxta-PbmA81",
        "outputId": "4bb949ac-d3f2-4a72-8725-fd00cc0453c4"
      },
      "execution_count": 10,
      "outputs": [
        {
          "output_type": "execute_result",
          "data": {
            "text/plain": [
              "0.1109"
            ]
          },
          "metadata": {},
          "execution_count": 10
        }
      ]
    },
    {
      "cell_type": "code",
      "source": [
        "# 4- Suppose GRE Verbal scores are normally distributed with a mean of 456 and a standard deviation of 123.  \n",
        "# A university plans to offer tutoring jobs to students whose scores are in the top 14%.  \n",
        "# What is the minimum score required for the job offer?  Round your answer to the nearest whole number, if necessary."
      ],
      "metadata": {
        "id": "256wf5dinOdP"
      },
      "execution_count": null,
      "outputs": []
    },
    {
      "cell_type": "markdown",
      "source": [
        "GRE Verbal scores are normally distributed with a mean = 456 ,\n",
        "The standard deviation = 123 ,\n",
        "We want to look for students whose scores are in the top 14% ,\n",
        "What is the minimum score required for the job offer: X ? \n",
        "These are quantile in the distribution. So we will apply the quantile function in Python."
      ],
      "metadata": {
        "id": "aaGrHu6UnbkW"
      }
    },
    {
      "cell_type": "code",
      "source": [
        "# What is the minimum score required for the job offer: X ?\n",
        "round(norm.ppf(.14, 456, 123))"
      ],
      "metadata": {
        "colab": {
          "base_uri": "https://localhost:8080/"
        },
        "id": "kXhTboUIooRR",
        "outputId": "d0500704-bc58-452c-cec7-d44bc19ee294"
      },
      "execution_count": 16,
      "outputs": [
        {
          "output_type": "execute_result",
          "data": {
            "text/plain": [
              "323"
            ]
          },
          "metadata": {},
          "execution_count": 16
        }
      ]
    },
    {
      "cell_type": "code",
      "source": [
        "# To look for students whose scores are in the top 14% :(1-0.14) = 0.86\n",
        "round(norm.ppf(.86, 456, 123))"
      ],
      "metadata": {
        "colab": {
          "base_uri": "https://localhost:8080/"
        },
        "id": "QtqKwuVosZyC",
        "outputId": "8db4f4cc-dafd-4a75-ecd3-8900303b98d5"
      },
      "execution_count": 18,
      "outputs": [
        {
          "output_type": "execute_result",
          "data": {
            "text/plain": [
              "589"
            ]
          },
          "metadata": {},
          "execution_count": 18
        }
      ]
    },
    {
      "cell_type": "code",
      "source": [
        "# 5- The lengths of nails produced in a factory are normally distributed with a mean of 6.13 centimeters and a standard deviation of 0.06 centimeters.  \n",
        "# Find the two lengths that separate the top 7% and the bottom 7%.  \n",
        "# These lengths could serve as limits used to identify which nails should be rejected.  Round your answer to the nearest hundredth, if necessary.\n",
        "\n"
      ],
      "metadata": {
        "id": "8-Oa3RW3tq_H"
      },
      "execution_count": null,
      "outputs": []
    },
    {
      "cell_type": "markdown",
      "source": [
        "The lengths of nails produced in a factory are normally distributed with a mean = 6.13 centimeters ,\n",
        "A standard deviation = 0.06 centimeters ,\n",
        "Find the two lengths that separate the top 7% and the bottom 7% ? \n",
        "lower limit = .07\n",
        "higher limit = 1-0.07=0.93"
      ],
      "metadata": {
        "id": "hi7K8GxHt3Vs"
      }
    },
    {
      "cell_type": "code",
      "source": [
        "higher_limit = round(norm.ppf(.93, 456, 123), 4)\n",
        "higher_limit \n"
      ],
      "metadata": {
        "colab": {
          "base_uri": "https://localhost:8080/"
        },
        "id": "ZGpeaObkuV6t",
        "outputId": "38efee63-319d-4858-ef28-2db2b4f4ab48"
      },
      "execution_count": 22,
      "outputs": [
        {
          "output_type": "execute_result",
          "data": {
            "text/plain": [
              "637.5223"
            ]
          },
          "metadata": {},
          "execution_count": 22
        }
      ]
    },
    {
      "cell_type": "code",
      "source": [
        "lower_limit = round(norm.ppf(.07, 456, 123), 4)\n",
        "lower_limit"
      ],
      "metadata": {
        "colab": {
          "base_uri": "https://localhost:8080/"
        },
        "id": "NSkjGAGIvK2H",
        "outputId": "8a244622-7490-4f6e-89cf-628f347d6d78"
      },
      "execution_count": 23,
      "outputs": [
        {
          "output_type": "execute_result",
          "data": {
            "text/plain": [
              "274.4777"
            ]
          },
          "metadata": {},
          "execution_count": 23
        }
      ]
    },
    {
      "cell_type": "code",
      "source": [
        "# 6- An English professor assigns letter grades on a test according to the following scheme.\n",
        "# A:  Top 13% of scores\n",
        "# B:  Scores below the top 13% and above the bottom 55%\n",
        "# C:  Scores below the top 45% and above the bottom 20%\n",
        "# D:  Scores below the top 80% and above the bottom 9%\n",
        "# F:  Bottom 9% of scores\n",
        "# Scores on the test are normally distributed with a mean of 78.8 and a standard deviation of 9.8.  Find the numerical limits for a C grade. \n",
        "# Round your answers to the nearest whole number, if necessary.\n"
      ],
      "metadata": {
        "id": "HTn7kWoyvR4k"
      },
      "execution_count": null,
      "outputs": []
    },
    {
      "cell_type": "markdown",
      "source": [
        "Scores on the test are normally distributed with a mean = 78.8 ,\n",
        "A standard deviation = 9.8 ,\n",
        "Find the numerical limits for a C grade \n"
      ],
      "metadata": {
        "id": "ruMtO42vwZH9"
      }
    },
    {
      "cell_type": "code",
      "source": [
        "# Finding the upper limit for grade C (1-.45) = .55\n",
        "higher_limit_of_C = round(norm.ppf(.55, 78.8, 9.8), 4)\n",
        "higher_limit_of_C  \n"
      ],
      "metadata": {
        "colab": {
          "base_uri": "https://localhost:8080/"
        },
        "id": "IU2cpUBDwLCb",
        "outputId": "c299fecf-8aae-4873-8c38-a5c522af3665"
      },
      "execution_count": 6,
      "outputs": [
        {
          "output_type": "execute_result",
          "data": {
            "text/plain": [
              "80.0315"
            ]
          },
          "metadata": {},
          "execution_count": 6
        }
      ]
    },
    {
      "cell_type": "code",
      "source": [
        "# Finding the lower limit for grade C = .20\n",
        "higher_limit_of_C = round(norm.ppf(.20, 78.8, 9.8), 4)\n",
        "higher_limit_of_C  "
      ],
      "metadata": {
        "colab": {
          "base_uri": "https://localhost:8080/"
        },
        "id": "xobYKUe7OhrV",
        "outputId": "06be3364-b43a-4bf7-b5e7-ca067c29aef9"
      },
      "execution_count": 7,
      "outputs": [
        {
          "output_type": "execute_result",
          "data": {
            "text/plain": [
              "70.5521"
            ]
          },
          "metadata": {},
          "execution_count": 7
        }
      ]
    },
    {
      "cell_type": "code",
      "source": [
        "# Suppose ACT Composite scores are normally distributed with a mean of 21.2 and a standard deviation of 5.4.  \n",
        "# A university plans to admit students whose scores are in the top 45%.  \n",
        "# What is the minimum score required for admission?  Round your answer to the nearest tenth, if necessary."
      ],
      "metadata": {
        "id": "42pCOtCvPnrx"
      },
      "execution_count": null,
      "outputs": []
    },
    {
      "cell_type": "markdown",
      "source": [
        "ACT Composite scores are normally distributed with a mean = 21.2 ,\n",
        "A standard deviation of 5.4 ,\n",
        "To admit students whose scores are in the top 45%, what is the minimum score required for admission?\n"
      ],
      "metadata": {
        "id": "ZdniRnJrPxiV"
      }
    },
    {
      "cell_type": "code",
      "source": [
        "# To admit students whose scores are in the top 45% (1-.45)\n",
        "higher_limit_of_C = round(norm.ppf(.55, 21.2, 5.4), 4)\n",
        "higher_limit_of_C "
      ],
      "metadata": {
        "colab": {
          "base_uri": "https://localhost:8080/"
        },
        "id": "bBygD1Y_Q4J9",
        "outputId": "147a4c5c-a6da-4be3-9917-0797b1787cb0"
      },
      "execution_count": 8,
      "outputs": [
        {
          "output_type": "execute_result",
          "data": {
            "text/plain": [
              "21.8786"
            ]
          },
          "metadata": {},
          "execution_count": 8
        }
      ]
    }
  ]
}
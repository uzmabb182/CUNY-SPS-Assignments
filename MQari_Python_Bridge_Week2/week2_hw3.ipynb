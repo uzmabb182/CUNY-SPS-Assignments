{
  "nbformat": 4,
  "nbformat_minor": 0,
  "metadata": {
    "colab": {
      "name": "week2_hw3.ipynb",
      "provenance": [],
      "collapsed_sections": []
    },
    "kernelspec": {
      "name": "python3",
      "display_name": "Python 3"
    },
    "language_info": {
      "name": "python"
    }
  },
  "cells": [
    {
      "cell_type": "code",
      "execution_count": null,
      "metadata": {
        "id": "0SqNK7GBBJA2"
      },
      "outputs": [],
      "source": [
        ""
      ]
    },
    {
      "cell_type": "code",
      "source": [
        "# Write a Python program that solves a system of inequalities with a 4 x 4 square matrix A where Ax=b."
      ],
      "metadata": {
        "id": "z8D_JwMwBScw"
      },
      "execution_count": null,
      "outputs": []
    },
    {
      "cell_type": "code",
      "source": [
        "# Import the dependencies\n",
        "import numpy as np"
      ],
      "metadata": {
        "id": "QSjKvXauBVk7"
      },
      "execution_count": 30,
      "outputs": []
    },
    {
      "cell_type": "code",
      "source": [
        "arr_a = np.array([[3,-9,2,1], [2,4,3,6], [5,3,1,2], [6,2,1,2]])"
      ],
      "metadata": {
        "id": "nx-7YhhvBWBW"
      },
      "execution_count": 31,
      "outputs": []
    },
    {
      "cell_type": "code",
      "source": [
        "print(arr_a)"
      ],
      "metadata": {
        "colab": {
          "base_uri": "https://localhost:8080/"
        },
        "id": "oS7J1DqkBWm0",
        "outputId": "2e9a4058-0374-489a-c9a8-21e8e47ee826"
      },
      "execution_count": 32,
      "outputs": [
        {
          "output_type": "stream",
          "name": "stdout",
          "text": [
            "[[ 3 -9  2  1]\n",
            " [ 2  4  3  6]\n",
            " [ 5  3  1  2]\n",
            " [ 6  2  1  2]]\n"
          ]
        }
      ]
    },
    {
      "cell_type": "code",
      "source": [
        "arr_b = np.array([-25,2,5,3])"
      ],
      "metadata": {
        "id": "ZA2T8uI4BXTh"
      },
      "execution_count": 33,
      "outputs": []
    },
    {
      "cell_type": "code",
      "source": [
        "print(arr_b)"
      ],
      "metadata": {
        "colab": {
          "base_uri": "https://localhost:8080/"
        },
        "id": "Rtsf5JjAUd1m",
        "outputId": "eb441dae-ae2a-4a8b-9bff-aea8b2eff825"
      },
      "execution_count": 34,
      "outputs": [
        {
          "output_type": "stream",
          "name": "stdout",
          "text": [
            "[-25   2   5   3]\n"
          ]
        }
      ]
    },
    {
      "cell_type": "code",
      "source": [
        "# Soling the 4X4 matrix\n",
        "z = np.linalg.solve(arr_a,arr_b)"
      ],
      "metadata": {
        "id": "Xj_ukfc6UeP-"
      },
      "execution_count": 35,
      "outputs": []
    },
    {
      "cell_type": "code",
      "source": [
        "print(z)"
      ],
      "metadata": {
        "colab": {
          "base_uri": "https://localhost:8080/"
        },
        "id": "8w0ezLDDUeuA",
        "outputId": "b79777e7-036c-4afb-aed4-9b4690bd5c91"
      },
      "execution_count": 36,
      "outputs": [
        {
          "output_type": "stream",
          "name": "stdout",
          "text": [
            "[ 0.16666667  2.16666667 -3.22222222  0.44444444]\n"
          ]
        }
      ]
    }
  ]
}
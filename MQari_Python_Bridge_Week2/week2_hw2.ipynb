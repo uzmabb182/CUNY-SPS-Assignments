{
  "nbformat": 4,
  "nbformat_minor": 0,
  "metadata": {
    "colab": {
      "name": "week2_hw2.ipynb",
      "provenance": [],
      "collapsed_sections": []
    },
    "kernelspec": {
      "name": "python3",
      "display_name": "Python 3"
    },
    "language_info": {
      "name": "python"
    }
  },
  "cells": [
    {
      "cell_type": "code",
      "execution_count": null,
      "metadata": {
        "id": "Jcrm05qn_FH8"
      },
      "outputs": [],
      "source": [
        "# Write a Python program to compute the determinant of an array"
      ]
    },
    {
      "cell_type": "code",
      "source": [
        "# import numpy \n",
        "import numpy as np"
      ],
      "metadata": {
        "id": "GK0J0HLR_V2E"
      },
      "execution_count": 1,
      "outputs": []
    },
    {
      "cell_type": "code",
      "source": [
        "# Enter an initial array\n",
        "arr = np.array([[2,4],[6,4]])"
      ],
      "metadata": {
        "id": "_kUpKbRy_WMe"
      },
      "execution_count": 2,
      "outputs": []
    },
    {
      "cell_type": "code",
      "source": [
        "print(arr)"
      ],
      "metadata": {
        "colab": {
          "base_uri": "https://localhost:8080/"
        },
        "id": "cy0EixZ__Wpj",
        "outputId": "76df5ec8-9f46-4d54-86c7-88b37e7ff2bc"
      },
      "execution_count": 3,
      "outputs": [
        {
          "output_type": "stream",
          "name": "stdout",
          "text": [
            "[[2 4]\n",
            " [6 4]]\n"
          ]
        }
      ]
    },
    {
      "cell_type": "code",
      "source": [
        "determinant =  np.linalg.det(arr)\n",
        "determinant"
      ],
      "metadata": {
        "colab": {
          "base_uri": "https://localhost:8080/"
        },
        "id": "anS-bURW_XJA",
        "outputId": "cf366024-bc9e-4f1b-a80d-6005f0f1fcd8"
      },
      "execution_count": 5,
      "outputs": [
        {
          "output_type": "execute_result",
          "data": {
            "text/plain": [
              "-15.999999999999998"
            ]
          },
          "metadata": {},
          "execution_count": 5
        }
      ]
    },
    {
      "cell_type": "code",
      "source": [
        "print(f'The determinant of  an array is {determinant}')"
      ],
      "metadata": {
        "colab": {
          "base_uri": "https://localhost:8080/"
        },
        "id": "Ca7-hsgFAzDa",
        "outputId": "9e0e6bc0-e9eb-40b7-ef92-a685b5bebdf2"
      },
      "execution_count": 6,
      "outputs": [
        {
          "output_type": "stream",
          "name": "stdout",
          "text": [
            "The determinant of  an array is -15.999999999999998\n"
          ]
        }
      ]
    }
  ]
}
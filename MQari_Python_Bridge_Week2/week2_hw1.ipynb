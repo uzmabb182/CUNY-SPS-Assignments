{
  "nbformat": 4,
  "nbformat_minor": 0,
  "metadata": {
    "colab": {
      "name": "week2_hw1.ipynb",
      "provenance": [],
      "collapsed_sections": []
    },
    "kernelspec": {
      "name": "python3",
      "display_name": "Python 3"
    },
    "language_info": {
      "name": "python"
    }
  },
  "cells": [
    {
      "cell_type": "code",
      "execution_count": null,
      "metadata": {
        "id": "nMKKMHE98WTZ"
      },
      "outputs": [],
      "source": [
        "# Write a Python program to compute the eigenvalues and eigenvectors of a given square array."
      ]
    },
    {
      "cell_type": "code",
      "source": [
        "# Importing the numpy library\n",
        "import numpy as np"
      ],
      "metadata": {
        "id": "NKKFbABk82IQ"
      },
      "execution_count": 3,
      "outputs": []
    },
    {
      "cell_type": "code",
      "source": [
        "# Create an array\n",
        "arr = np.array([[2, 4],\n",
        "              [4, 1]])"
      ],
      "metadata": {
        "id": "3rJKnmUV82lg"
      },
      "execution_count": 4,
      "outputs": []
    },
    {
      "cell_type": "code",
      "source": [
        "print(f'the original square array is: \\n {arr}')"
      ],
      "metadata": {
        "colab": {
          "base_uri": "https://localhost:8080/"
        },
        "id": "qNS1lLqY829T",
        "outputId": "ef63c706-ce19-410c-c9a7-724d4dacd2ce"
      },
      "execution_count": 5,
      "outputs": [
        {
          "output_type": "stream",
          "name": "stdout",
          "text": [
            "the original square array is: \n",
            " [[2 4]\n",
            " [4 1]]\n"
          ]
        }
      ]
    },
    {
      "cell_type": "code",
      "source": [
        "# Calculating eigenvalues and eigenvectors\n",
        "e_values, e_vectors = np.linalg.eig(arr)"
      ],
      "metadata": {
        "id": "-IvB4iVq83fA"
      },
      "execution_count": 6,
      "outputs": []
    },
    {
      "cell_type": "code",
      "source": [
        "print(f'The eigenvalues and eigenvectors are: {e_values} {e_vectors}')\n",
        "\n"
      ],
      "metadata": {
        "colab": {
          "base_uri": "https://localhost:8080/"
        },
        "id": "4eQy4vkS-Gk9",
        "outputId": "92b13545-7dbf-4d6d-eddb-fc1a84213668"
      },
      "execution_count": 9,
      "outputs": [
        {
          "output_type": "stream",
          "name": "stdout",
          "text": [
            "The eigenvalues and eigenvectors are: [ 5.53112887 -2.53112887] [[ 0.74967818 -0.66180256]\n",
            " [ 0.66180256  0.74967818]]\n"
          ]
        }
      ]
    },
    {
      "cell_type": "code",
      "source": [
        ""
      ],
      "metadata": {
        "id": "qOTgXiuA-G9t"
      },
      "execution_count": null,
      "outputs": []
    }
  ]
}